{
 "cells": [
  {
   "cell_type": "code",
   "execution_count": null,
   "id": "2235fd82",
   "metadata": {},
   "outputs": [],
   "source": [
    "print(\"Cambio desde VSCode, ahora desde el browser, ahora desde el nb\")"
   ]
  },
  {
   "cell_type": "code",
   "execution_count": null,
   "id": "26aa94f2",
   "metadata": {},
   "outputs": [],
   "source": [
    "print(\"Hello World!!\")"
   ]
  },
  {
   "cell_type": "code",
   "execution_count": null,
   "metadata": {},
   "outputs": [],
   "source": [
    "5+5 # Es importante ver el resultado de aquí"
   ]
  },
  {
   "cell_type": "code",
   "execution_count": null,
   "id": "864651ce",
   "metadata": {},
   "outputs": [],
   "source": [
    "print(\"doing more tests\")\n",
    "\n",
    "Haciendo más ensayos"
   ]
  },
  {
   "cell_type": "markdown",
   "metadata": {},
   "source": [
    "## Orale, un título\n",
    "\n",
    "Chidos cambioss"
   ]
  }
 ],
 "metadata": {
  "celltoolbar": "Edit Metadata",
  "interpreter": {
   "hash": "bafb366b560cd7299c811771d7c84b727a170f9d535be40112edda2833854391"
  },
  "jupytext": {
   "encoding": "# -*- coding: utf-8 -*-",
   "formats": "ipynb,py:percent"
  },
  "kernelspec": {
   "display_name": "Python 3 (ipykernel)",
   "language": "python",
   "name": "python3"
  },
  "language_info": {
   "codemirror_mode": {
    "name": "ipython",
    "version": 3
   },
   "file_extension": ".py",
   "mimetype": "text/x-python",
   "name": "python",
   "nbconvert_exporter": "python",
   "pygments_lexer": "ipython3",
   "version": "3.9.7"
  }
 },
 "nbformat": 4,
 "nbformat_minor": 2
}
